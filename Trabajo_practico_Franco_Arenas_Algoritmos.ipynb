{
  "nbformat": 4,
  "nbformat_minor": 0,
  "metadata": {
    "colab": {
      "name": "Trabajo practico Franco Arenas - Algoritmos.ipynb",
      "provenance": [],
      "collapsed_sections": [],
      "include_colab_link": true
    },
    "kernelspec": {
      "name": "python3",
      "display_name": "Python 3"
    }
  },
  "cells": [
    {
      "cell_type": "markdown",
      "metadata": {
        "id": "view-in-github",
        "colab_type": "text"
      },
      "source": [
        "<a href=\"https://colab.research.google.com/github/FrancoArenas1/Algoritmos_de_optimizacion/blob/main/Trabajo_practico_Franco_Arenas_Algoritmos.ipynb\" target=\"_parent\"><img src=\"https://colab.research.google.com/assets/colab-badge.svg\" alt=\"Open In Colab\"/></a>"
      ]
    },
    {
      "cell_type": "markdown",
      "metadata": {
        "id": "hVbXYX-RfPWh"
      },
      "source": [
        "# Algoritmos de optimización - Seminario<br>\n",
        "Nombre y Apellidos:  Franco Arenas Garrido <br>\n",
        "Url: https://github.com/FrancoArenas1/Algoritmos_de_optimizacion/blob/main/Trabajo_practico_Franco_Arenas_Algoritmos.ipynb<br>\n",
        "Problema:\n",
        "\n",
        ">3. Combinar cifras y operaciones\n",
        "\n",
        "Descripción del problema:\n",
        "\n",
        "Problema 3. Combinar cifras y operaciones\n",
        "\n",
        "El problema consiste en analizar el siguiente problema y diseñar un algoritmo que lo\n",
        "resuelva.\n",
        "• Disponemos de las 9 cifras del 1 al 9 (excluimos el cero) y de los 4 signos básicos de las\n",
        "operaciones fundamentales: suma(+), resta(-), multiplicación(*) y división(/)\n",
        "• Debemos combinarlos alternativamente sin repetir ninguno de ellos para obtener una\n",
        "cantidad dada. Un ejemplo sería para obtener el 4:\n",
        "4+2-6/3*1 = 4\n",
        "\n",
        "Debe analizarse el problema para encontrar todos los valores enteros posibles\n",
        "planteando las siguientes cuestiones:\n",
        "- ¿Qué valor máximo y mínimo se pueden obtener según las condiciones del problema?\n",
        "- ¿Es posible encontrar todos los valores enteros posibles entre dicho mínimo y\n",
        "máximo ?\n",
        "• Nota: Es posible usar la función de python “eval” para evaluar una expresión:\n",
        "\n",
        "(*) La respuesta es obligatoria\n",
        "\n",
        "\n",
        "\n",
        "\n",
        "\n",
        "                                        "
      ]
    },
    {
      "cell_type": "markdown",
      "source": [
        "RESPUESTA 1: Valor minimo: -70.71428571428571\n",
        "\n",
        "RESPUESTA 2: Valor maximo: 78.83333333333333\n",
        "\n",
        "RESPUESTA 3: Valores enteros [-68.0, -66.0, -64.0, -62.0, -60.0, -58.0, -56.0, -54.0, -52.0, -50.0, -48.0, -46.0, -44.0, -42.0, -40.0, -38.0, -36.0, -34.0, -32.0, -30.0, -28.0, -26.0, -24.0, -22.0, -20.0, -18.0, -16.0, -14.0, -12.0, -10.0, -8.0, -6.0, -4.0, -2.0, 0.0, 2.0, 4.0, 6.0, 8.0, 10.0, 12.0, 14.0, 16.0, 18.0, 20.0, 22.0, 24.0, 26.0, 28.0, 30.0, 32.0, 34.0, 36.0, 38.0, 40.0, 42.0, 44.0, 46.0, 48.0, 50.0, 52.0, 54.0, 56.0, 58.0, 60.0, 62.0, 64.0, 66.0, 68.0, 70.0, 72.0, 74.0, 76.0]\n",
        "\n",
        "No todos los valores enteros posibles comprendidos entre el minimo y el maximo se pueden obtener, por ejemplo el 17"
      ],
      "metadata": {
        "id": "4DOGjr3iV89d"
      }
    },
    {
      "cell_type": "markdown",
      "metadata": {
        "id": "3_-exlrTgLd-"
      },
      "source": [
        "(*)¿Cuantas posibilidades hay sin tener en cuenta las restricciones?<br>\n",
        "\n",
        "\n",
        "\n",
        "¿Cuantas posibilidades hay teniendo en cuenta todas las restricciones.\n",
        "\n",
        "\n"
      ]
    },
    {
      "cell_type": "markdown",
      "metadata": {
        "id": "WfCUqJyKhPcw"
      },
      "source": [
        "RESPUESTA 4: Cantidad de posibles resultados: 362880\n",
        "\n",
        "RESPUESTA 5: La cantidad de valores posibles de obtener con las restricciones son dependiente del numero , por ejemplo para el numero 18 las operaciones posibles son : 1344"
      ]
    },
    {
      "cell_type": "markdown",
      "metadata": {
        "id": "dzynfVJahHoY"
      },
      "source": [
        "Modelo para el espacio de soluciones<br>\n",
        "(*) ¿Cual es la estructura de datos que mejor se adapta al problema? Argumentalo.(Es posible que hayas elegido una al principio y veas la necesidad de cambiar, arguentalo)\n",
        "\n",
        "\n",
        "El problema, esta asociado a la cantidad de permutaciones posibles entre 2 listas de datos.\n",
        "Por consiguiente la mejor estructura era trabajar con listas\n",
        "\n"
      ]
    },
    {
      "cell_type": "markdown",
      "metadata": {
        "id": "7Z9U2W7bi-XS"
      },
      "source": [
        "Según el modelo para el espacio de soluciones<br>\n",
        "(*)¿Cual es la función objetivo?\n",
        "\n",
        "(*)¿Es un problema de maximización o minimización?"
      ]
    },
    {
      "cell_type": "markdown",
      "source": [
        "La funcion objetivo es encontrar mediante la formula de calculo el valor solicitado en esta combinacion de valores, no es un problema de minimizacion ni maximizacion dado que es un algoritmo de fuerza bruta que busca todos los posibles valores existentes en las permutaciones\n",
        "\n",
        "\n"
      ],
      "metadata": {
        "id": "p26vcCJaat8q"
      }
    },
    {
      "cell_type": "markdown",
      "metadata": {
        "id": "rlnTYgY1j6I2"
      },
      "source": [
        "Diseña un algoritmo para resolver el problema por fuerza bruta"
      ]
    },
    {
      "cell_type": "code",
      "metadata": {
        "id": "CJb5sQ0qkENy",
        "colab": {
          "base_uri": "https://localhost:8080/"
        },
        "outputId": "7f39367d-0179-43e9-dfd7-04757b1e6054"
      },
      "source": [
        "import numpy as np\n",
        "from itertools import permutations\n",
        "\n",
        "numeros = ['1','2','3','4','5','6','7','8','9']\n",
        "operaciones = ['+','-','*','/']\n",
        "\n",
        "\n",
        "def calculo_operaciones(numero):\n",
        "  min = 99999999\n",
        "  max = 0  \n",
        "  cant_calc = 0\n",
        "  cant_num = 5\n",
        "  cant_oper = 4\n",
        "  result_enteros = list()\n",
        "  result_encontrados = list()\n",
        "  temp_numeros = permutations(numeros,cant_num)\n",
        "  for nums in list(temp_numeros):\n",
        "    temp_operaciones = permutations(operaciones,cant_oper)\n",
        "    for opers in list(temp_operaciones):\n",
        "      calc = nums[0]+opers[0]+nums[1]+opers[1]+nums[2]+opers[2]+nums[3]+opers[3]+nums[4]\n",
        "      r_calc = eval(calc)\n",
        "      if r_calc%2==0:\n",
        "        result_enteros.append(r_calc) \n",
        "        if(r_calc == numero):\n",
        "          result_encontrados.append(r_calc)\n",
        "      cant_calc=cant_calc+1 \n",
        "      result = r_calc\n",
        "      if result< min:\n",
        "        min = result\n",
        "      if result> max:\n",
        "        max = result\n",
        "      \n",
        "  return min, max, cant_calc, result_enteros, result_encontrados\n",
        "\n",
        "\n",
        "numero_buscar = -68\n",
        "result_min , result_max, result_cant, result_enteros_f, result_encontrados_n = calculo_operaciones(numero_buscar)\n",
        "result_enteros_sort= sorted(set(result_enteros_f))\n",
        "print(f\"RESPUESTA 1: Valor minimo: {result_min}\") \n",
        "print(f\"RESPUESTA 2: Valor maximo: {result_max}\")\n",
        "print(f\"RESPUESTA 3: Valores enteros {result_enteros_sort}\")\n",
        "print(f\"RESPUESTA 4: Cantidad de posibles resultados: {result_cant}\")\n",
        "print(f\"RESPUESTA 5: La cantidad de valores posibles de obtener con las restricciones son dependiente del numero , por ejemplo para el numero {numero_buscar} los valores posibles son: {len(result_encontrados_n)}\")\n"
      ],
      "execution_count": 230,
      "outputs": [
        {
          "output_type": "stream",
          "name": "stdout",
          "text": [
            "RESPUESTA 1: Valor minimo: -70.71428571428571\n",
            "RESPUESTA 2: Valor maximo: 78.83333333333333\n",
            "RESPUESTA 3: Valores enteros [-68.0, -66.0, -64.0, -62.0, -60.0, -58.0, -56.0, -54.0, -52.0, -50.0, -48.0, -46.0, -44.0, -42.0, -40.0, -38.0, -36.0, -34.0, -32.0, -30.0, -28.0, -26.0, -24.0, -22.0, -20.0, -18.0, -16.0, -14.0, -12.0, -10.0, -8.0, -6.0, -4.0, -2.0, 0.0, 2.0, 4.0, 6.0, 8.0, 10.0, 12.0, 14.0, 16.0, 18.0, 20.0, 22.0, 24.0, 26.0, 28.0, 30.0, 32.0, 34.0, 36.0, 38.0, 40.0, 42.0, 44.0, 46.0, 48.0, 50.0, 52.0, 54.0, 56.0, 58.0, 60.0, 62.0, 64.0, 66.0, 68.0, 70.0, 72.0, 74.0, 76.0]\n",
            "RESPUESTA 4: Cantidad de posibles resultados: 362880\n",
            "RESPUESTA 5: La cantidad de valores posibles de obtener con las restricciones son dependiente del numero , por ejemplo para el numero -68 los valores posibles son: 16\n"
          ]
        }
      ]
    },
    {
      "cell_type": "markdown",
      "metadata": {
        "id": "tgrnsC2nkFa8"
      },
      "source": [
        "Calcula la complejidad del algoritmo por fuerza bruta"
      ]
    },
    {
      "cell_type": "markdown",
      "source": [
        "El calculo de complejidad es 9!*4! * n**2\n",
        "\n",
        "Donde el 9! es por la permutacion de la lista de numeros, el 4! seria por la permutacion de los signos, el n**2 seria por los ciclos for.\n",
        "\n"
      ],
      "metadata": {
        "id": "Ljn-Ehl9nZ-m"
      }
    },
    {
      "cell_type": "markdown",
      "metadata": {
        "id": "txbrmLmskReM"
      },
      "source": [
        "(*)Diseña un algoritmo que mejore la complejidad del algortimo por fuerza bruta. Argumenta porque crees que mejora el algoritmo por fuerza bruta"
      ]
    },
    {
      "cell_type": "markdown",
      "metadata": {
        "id": "hLrVwt5QkZPD"
      },
      "source": [
        "Respuesta"
      ]
    },
    {
      "cell_type": "code",
      "metadata": {
        "id": "m1eyM21Vkabg",
        "colab": {
          "base_uri": "https://localhost:8080/"
        },
        "outputId": "25ebbdb6-6573-47db-da0b-caab867671fe"
      },
      "source": [
        "from random import random,choice\n",
        "\n",
        "\n",
        "def calculo_operaciones_heuristico(numero, iter, numeros, operaciones):\n",
        "  \n",
        "  min = 99999999\n",
        "  max = 0  \n",
        "  cant_calc = 0\n",
        "  result_encontrados = list()\n",
        "  formula=0\n",
        "  ciclo = 0\n",
        "  while(formula != numero or ciclo <= iter):\n",
        "    ciclo = ciclo +1\n",
        "    numeros_asignados = list()\n",
        "    uno = choice(numeros)\n",
        "    numeros_asignados.append(uno)\n",
        "    dos = choice([i for i in numeros if i not in numeros_asignados])\n",
        "    numeros_asignados.append(dos)\n",
        "    tres = choice([i for i in numeros if i not in numeros_asignados])\n",
        "    numeros_asignados.append(tres) \n",
        "    cuatro = choice([i for i in numeros if i not in numeros_asignados])\n",
        "    numeros_asignados.append(cuatro)\n",
        "    cinco = choice([i for i in numeros if i not in numeros_asignados])\n",
        "    \n",
        "    operaciones_asignadas = list()\n",
        "    p_signo = choice(operaciones)\n",
        "    operaciones_asignadas.append(p_signo)\n",
        "    s_signo = choice([i for i in operaciones if i not in operaciones_asignadas])\n",
        "    operaciones_asignadas.append(s_signo)\n",
        "    t_signo = choice([i for i in operaciones if i not in operaciones_asignadas])\n",
        "    operaciones_asignadas.append(t_signo) \n",
        "    c_signo = choice([i for i in operaciones if i not in operaciones_asignadas])\n",
        "    f = f\"{uno}{p_signo}{dos}{s_signo}{tres}{t_signo}{cuatro}{c_signo}{cinco}\"\n",
        "    formula=eval(f)\n",
        "    if formula<min:\n",
        "      min = formula\n",
        "    if formula> max:\n",
        "      max = formula\n",
        "    if formula == numero: \n",
        "      return f, min, max, ciclo\n",
        "    \n",
        "numeros = ['1','2','3','4','5','6','7','8','9']\n",
        "operaciones = ['+','-','*','/']\n",
        "numero_a_buscar = 10\n",
        "numero_iter = 100\n",
        "result_f, result_min, result_max, result_iter = calculo_operaciones_heuristico(numero_a_buscar,numero_iter,numeros,operaciones)\n",
        "print(f\"La formula {result_f} obtiene el valor {numero_a_buscar} en {result_iter} iteraciones\")\n",
        "print(f\"El valor minimo obtenido es : {result_min} y el valor maximo obtenido es {result_max}\")"
      ],
      "execution_count": 231,
      "outputs": [
        {
          "output_type": "stream",
          "name": "stdout",
          "text": [
            "La formula 9+1*3-4/2 obtiene el valor 10 en 10 iteraciones\n",
            "El valor minimo obtenido es : -44.0 y el valor maximo obtenido es 35.8\n"
          ]
        }
      ]
    },
    {
      "cell_type": "markdown",
      "metadata": {
        "id": "eGDB4K6uk1iN"
      },
      "source": [
        "(*)Calcula la complejidad del algoritmo "
      ]
    },
    {
      "cell_type": "markdown",
      "metadata": {
        "id": "NhpTh_BPk1ms"
      },
      "source": [
        "Respuesta"
      ]
    },
    {
      "cell_type": "markdown",
      "source": [
        "La complejidad del algoritmo es 9N dado que hay 1 ciclo while que recorre y la obtencion de los numeros random de la lista.\n",
        "\n",
        "este algoritmo es heuristicos, por que puede que no encuentre una solucion o no encuentre la mas optima, ademas que los ciclos estan controlados por cantidad de iteraciones.\n",
        "Pero ha encontrado buenos resultados, en pocas iteraciones\n",
        "\n"
      ],
      "metadata": {
        "id": "m6jXXo0SAZ6K"
      }
    },
    {
      "cell_type": "markdown",
      "metadata": {
        "id": "3M6QjTsSkmYe"
      },
      "source": [
        "Según el problema (y tenga sentido), diseña un juego de datos de entrada aleatorios"
      ]
    },
    {
      "cell_type": "code",
      "metadata": {
        "id": "sJ-N2etjkyWc"
      },
      "source": [
        "numeros_aleatorios = range(1,99)"
      ],
      "execution_count": 232,
      "outputs": []
    },
    {
      "cell_type": "markdown",
      "metadata": {
        "id": "zy5ZROmjlGo1"
      },
      "source": [
        "Aplica el algoritmo al juego de datos generado"
      ]
    },
    {
      "cell_type": "markdown",
      "metadata": {
        "id": "_Cmj-PVylMsa"
      },
      "source": [
        "Respuesta"
      ]
    },
    {
      "cell_type": "code",
      "metadata": {
        "id": "Jkx8GeiYlUz1",
        "colab": {
          "base_uri": "https://localhost:8080/"
        },
        "outputId": "cd32cd17-a960-4d22-d9fb-0a28096d2295"
      },
      "source": [
        "\n",
        "numero_a_buscar = 30\n",
        "numero_iter = 100\n",
        "result_f, result_min, result_max, result_iter = calculo_operaciones_heuristico(numero_a_buscar,numero_iter,numeros_aleatorios,operaciones)\n",
        "print(f\"La formula {result_f} obtiene el valor {numero_a_buscar} en {result_iter} iteraciones\")\n",
        "print(f\"El valor minimo obtenido es : {result_min} y el valor maximo obtenido es {result_max}\")"
      ],
      "execution_count": 233,
      "outputs": [
        {
          "output_type": "stream",
          "name": "stdout",
          "text": [
            "La formula 72*21/84+43-31 obtiene el valor 30 en 621 iteraciones\n",
            "El valor minimo obtenido es : -8934.112244897959 y el valor maximo obtenido es 8995.666666666666\n"
          ]
        }
      ]
    },
    {
      "cell_type": "markdown",
      "metadata": {
        "id": "eTFWUJQrtGcv"
      },
      "source": [
        "Enumera las referencias que has utilizado(si ha sido necesario) para llevar a cabo el trabajo"
      ]
    },
    {
      "cell_type": "markdown",
      "metadata": {
        "id": "YKQ_mRBttWsP"
      },
      "source": [
        "\n",
        "\n",
        "1.   Stackoverflow\n",
        "2.   Google\n",
        "\n"
      ]
    },
    {
      "cell_type": "markdown",
      "metadata": {
        "id": "kAkDPUyRtYyH"
      },
      "source": [
        "Describe brevemente las lineas de como crees que es posible avanzar en el estudio del problema. Ten en cuenta incluso posibles variaciones del problema y/o variaciones al alza del tamaño"
      ]
    },
    {
      "cell_type": "markdown",
      "metadata": {
        "id": "IE0uZmo-tZu-"
      },
      "source": [
        "Avanzar en el estudio del problema , podria realizarse con el analisis de la complejidad del algoritmo para ver si se puede mejorar, aplicando AG u otras tecnicas."
      ]
    }
  ]
}