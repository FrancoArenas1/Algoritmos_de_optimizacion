{
  "nbformat": 4,
  "nbformat_minor": 0,
  "metadata": {
    "colab": {
      "name": "Franco Arenas Algoritmos AG1 - Plantilla.ipynb",
      "provenance": [],
      "collapsed_sections": [],
      "include_colab_link": true
    },
    "kernelspec": {
      "name": "python3",
      "display_name": "Python 3"
    },
    "language_info": {
      "name": "python"
    }
  },
  "cells": [
    {
      "cell_type": "markdown",
      "metadata": {
        "id": "view-in-github",
        "colab_type": "text"
      },
      "source": [
        "<a href=\"https://colab.research.google.com/github/FrancoArenas1/Algoritmos_de_optimizacion/blob/main/Franco_Arenas_Algoritmos_AG1_Plantilla.ipynb\" target=\"_parent\"><img src=\"https://colab.research.google.com/assets/colab-badge.svg\" alt=\"Open In Colab\"/></a>"
      ]
    },
    {
      "cell_type": "markdown",
      "metadata": {
        "id": "GG2D6vLdYwwy"
      },
      "source": [
        "Actividad Guiada 1 de Algoritmos de Optimizacion\n",
        "\n",
        "Nombre: Franco Arenas Garrido\n",
        "\n",
        "https://colab.research.google.com/drive/1LZmutJZieGPqW4HuqmOY1R26wOM5bEK8?usp=sharing\n",
        "\n",
        "https://github.com/mi_usuario/03MAIR---Algoritmos-de-Optimizacion"
      ]
    },
    {
      "cell_type": "code",
      "metadata": {
        "id": "rTiqLuX2ZKuL",
        "colab": {
          "base_uri": "https://localhost:8080/"
        },
        "outputId": "e0cbbabd-2c34-4a03-9a3a-e2584dfcb15a"
      },
      "source": [
        "#Torres de Hanoi - Divide y venceras\n",
        "################################################################################\n",
        "\n",
        "\n",
        "################################################################\n",
        "def Torres_Hanoi(N, desde, hasta):\n",
        "# N = Numero de fichas\n",
        "# Desde = Torre Inicial\n",
        "# Hasta = Torre final\n",
        "  if N==1:\n",
        "    print(f\"Lleva la ficha desde {desde} hasta {hasta}\")\n",
        "  else:\n",
        "    Torres_Hanoi(N-1,desde,6-desde-hasta)\n",
        "    print(f\"Lleva la ficha desde {desde} hasta {hasta}\")\n",
        "    Torres_Hanoi(N-1,6-desde-hasta,hasta)\n",
        "\n",
        "\n",
        "Torres_Hanoi(3,1,3)\n"
      ],
      "execution_count": null,
      "outputs": [
        {
          "output_type": "stream",
          "name": "stdout",
          "text": [
            "Lleva la ficha desde 1 hasta 3\n",
            "Lleva la ficha desde 1 hasta 2\n",
            "Lleva la ficha desde 3 hasta 2\n",
            "Lleva la ficha desde 1 hasta 3\n",
            "Lleva la ficha desde 2 hasta 1\n",
            "Lleva la ficha desde 2 hasta 3\n",
            "Lleva la ficha desde 1 hasta 3\n"
          ]
        }
      ]
    },
    {
      "cell_type": "code",
      "metadata": {
        "id": "YwBudj2hYoMR",
        "colab": {
          "base_uri": "https://localhost:8080/"
        },
        "outputId": "56711dd3-f17d-493c-8e24-de67590091ba"
      },
      "source": [
        "import numpy as np\n",
        "import pandas as pd\n",
        "\n",
        "SISTEMA = [10,5,1]\n",
        "################################################################\n",
        "#Cambio de monedas - Técnica voraz\n",
        "################################################################################\n",
        "\n",
        "################################################################\n",
        "def cambio_monedas(CANTIDAD,SISTEMA):\n",
        "  SOLUCION = np.full(len(SISTEMA),0)\n",
        "  SISTEMA.sort(reverse=True);\n",
        "  valor_acumulado = 0\n",
        "  for ind,val in enumerate(SISTEMA):\n",
        "    monedas = (CANTIDAD-valor_acumulado)// val\n",
        "    SOLUCION[ind] = monedas\n",
        "    valor_acumulado += monedas*val\n",
        "    \n",
        "    if(CANTIDAD == valor_acumulado):\n",
        "      return SOLUCION\n",
        "  \n",
        "  print(\"No es posible, solucionar el sistema monetario\")\n",
        "#....\n",
        "cambio_monedas(16,SISTEMA)\n",
        "################################################################"
      ],
      "execution_count": null,
      "outputs": [
        {
          "output_type": "execute_result",
          "data": {
            "text/plain": [
              "array([1, 1, 1])"
            ]
          },
          "metadata": {},
          "execution_count": 3
        }
      ]
    },
    {
      "cell_type": "code",
      "metadata": {
        "id": "9toJ4WjhQUNj"
      },
      "source": [
        ""
      ],
      "execution_count": null,
      "outputs": []
    },
    {
      "cell_type": "code",
      "metadata": {
        "id": "H4Iwt2XRZTFr",
        "colab": {
          "base_uri": "https://localhost:8080/"
        },
        "outputId": "6e4b09e8-80dc-4ac7-9f31-c2230d651d29"
      },
      "source": [
        "#N Reinas - Vuelta Atrás()\n",
        "################################################################################\n",
        "\n",
        "#Verifica que en la solución parcial no hay amenzas entre reinas\n",
        "################################################################\n",
        "def es_prometedora(SOLUCION,etapa):\n",
        "################################################################\n",
        "  #print(SOLUCION)\n",
        "  #Si la solución tiene dos valores iguales no es valida => Dos reinas en la misma fila\n",
        "  for i in range(etapa+1):\n",
        "    #print(\"El valor \" + str(SOLUCION[i]) + \" está \" +  str(SOLUCION.count(SOLUCION[i])) + \" veces\")\n",
        "    if SOLUCION.count(SOLUCION[i]) > 1:       \n",
        "      return False\n",
        "  \n",
        "    #Verifica las diagonales\n",
        "    for j in range(i+1, etapa +1 ):\n",
        "      #print(\"Comprobando diagonal de \" + str(i) + \" y \" + str(j))\n",
        "      if abs(i-j) == abs(SOLUCION[i]-SOLUCION[j]) : return False\n",
        "  return True\n",
        "\n",
        "#Traduce la solución al tablero\n",
        "################################################################\n",
        "def escribe_solucion(S):\n",
        "################################################################\n",
        "  n = len(S)\n",
        "  for x in range(n):\n",
        "    print(\"\")\n",
        "    for i in range(n):\n",
        "      if S[i] == x+1:\n",
        "        print(\" X \" , end=\"\")\n",
        "      else:\n",
        "        print(\" - \", end=\"\")\n",
        "\n",
        "\n",
        "\n",
        "#Proceso principal de N-Reinas\n",
        "################################################################\n",
        "def reinas(N,solucion=[],etapa=0): \n",
        "################################################################\n",
        "### ....\n",
        "  if len(solucion) == 0:\n",
        "    solucion = [0 for i in range(N)]\n",
        "\n",
        "  for i in range(1,N+1):\n",
        "    solucion[etapa]=i\n",
        "    if es_prometedora(solucion,etapa):\n",
        "      if etapa == N-1:\n",
        "        print(solucion)\n",
        "      else:\n",
        "        reinas(N,solucion, etapa+1)\n",
        "    else:\n",
        "      None\n",
        "\n",
        "  \n",
        "  solucion[etapa] = 0\n",
        "\n",
        "\n",
        "reinas(4,solucion=[],etapa=0)"
      ],
      "execution_count": null,
      "outputs": [
        {
          "output_type": "stream",
          "name": "stdout",
          "text": [
            "[2, 4, 1, 3]\n",
            "[3, 1, 4, 2]\n"
          ]
        }
      ]
    },
    {
      "cell_type": "code",
      "metadata": {
        "id": "eTZclKH9QV0R",
        "colab": {
          "base_uri": "https://localhost:8080/"
        },
        "outputId": "aa9cf06f-1eca-4344-eb38-7864cfad7232"
      },
      "source": [
        "escribe_solucion([2, 4, 1, 3])\n",
        "escribe_solucion([3, 1, 4, 2])"
      ],
      "execution_count": null,
      "outputs": [
        {
          "output_type": "stream",
          "name": "stdout",
          "text": [
            "\n",
            " -  -  X  - \n",
            " X  -  -  - \n",
            " -  -  -  X \n",
            " -  X  -  - \n",
            " -  X  -  - \n",
            " -  -  -  X \n",
            " X  -  -  - \n",
            " -  -  X  - "
          ]
        }
      ]
    },
    {
      "cell_type": "code",
      "metadata": {
        "id": "TocxR55dQWq5"
      },
      "source": [
        "#Viaje por el rio - Programación dinámica\n",
        "################################################################################\n",
        "\n",
        "TARIFAS = [\n",
        "[0,5,4,3,999,999,999],\n",
        "[999,0,999,2,3,999,11],\n",
        "[999,999, 0,1,999,4,10],\n",
        "[999,999,999, 0,5,6,9],\n",
        "[999,999, 999,999,0,999,4],\n",
        "[999,999, 999,999,999,0,3],\n",
        "[999,999,999,999,999,999,0]\n",
        "]\n",
        "\n",
        "#999 se puede sustituir por float(\"inf\")\n",
        "\n",
        "\n",
        "#Calculo de la matriz de PRECIOS y RUTAS\n",
        "################################################################  \n",
        "def Precios(TARIFAS):\n",
        "################################################################ \n",
        "#....\n",
        "\n",
        "\n",
        "\n",
        "\n",
        "\n",
        "\n",
        "PRECIOS,RUTA = Precios(TARIFAS)  \n",
        "#print(PRECIOS[0][6])\n",
        "\n",
        "#Imprime la matriz de precios\n",
        "print(\"PRECIOS\")\n",
        "for i in range(len(TARIFAS)):\n",
        "  print(PRECIOS[i])\n",
        "\n",
        "#Imprime la matriz de RUTAS\n",
        "print(\"\\nRUTA\")  \n",
        "for i in range(len(TARIFAS)):\n",
        "  print(RUTA[i])  \n",
        "  \n",
        "#Determinar la ruta con Recursividad\n",
        "################################################################\n",
        "def calcular_ruta(RUTA, desde, hasta):\n",
        "################################################################\n",
        "  if desde == hasta:\n",
        "    #print(\"Ir a :\" + str(desde))\n",
        "    return \"\" \n",
        "  else:\n",
        "    return str(calcular_ruta( RUTA, desde, RUTA[desde][hasta])) +  \\\n",
        "                ',' + \\\n",
        "                str(RUTA[desde][hasta] \\\n",
        "              ) \n",
        "\n",
        "print(\"\\nLa ruta es:\")  \n",
        "calcular_ruta(RUTA, 0,6) "
      ],
      "execution_count": null,
      "outputs": []
    }
  ]
}